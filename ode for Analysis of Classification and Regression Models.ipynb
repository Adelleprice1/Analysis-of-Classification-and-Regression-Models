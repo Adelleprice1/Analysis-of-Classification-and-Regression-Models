{
 "cells": [
  {
   "cell_type": "code",
   "execution_count": 1,
   "id": "a658a998",
   "metadata": {},
   "outputs": [],
   "source": [
    "#########################################Classification#####################################################"
   ]
  },
  {
   "cell_type": "code",
   "execution_count": 2,
   "id": "269cf38b",
   "metadata": {},
   "outputs": [
    {
     "data": {
      "text/plain": [
       "Text(0, 0.5, 'Amount')"
      ]
     },
     "execution_count": 2,
     "metadata": {},
     "output_type": "execute_result"
    },
    {
     "data": {
      "image/png": "[encoded data removed]",
      "text/plain": [
       "<Figure size 432x288 with 1 Axes>"
      ]
     },
     "metadata": {
      "needs_background": "light"
     },
     "output_type": "display_data"
    }
   ],
   "source": [
    "import matplotlib.pyplot as plt\n",
    "import pandas as pd\n",
    "import imblearn\n",
    "import seaborn as sb\n",
    "df_c = pd.read_csv(r'C:/Users/adell/Desktop/School/MATH_6388_Machine _Learning/creditcard_data.csv')\n",
    "\n",
    "plt.scatter(df_c['Time'], df_c['Amount'])\n",
    "plt.xlabel('Time')\n",
    "plt.ylabel('Amount')"
   ]
  },
  {
   "cell_type": "code",
   "execution_count": 3,
   "id": "9d74c663",
   "metadata": {},
   "outputs": [
    {
     "data": {
      "image/png": "[encoded data removed]",
      "text/plain": [
       "<Figure size 432x288 with 1 Axes>"
      ]
     },
     "metadata": {
      "needs_background": "light"
     },
     "output_type": "display_data"
    }
   ],
   "source": [
    "fig, ax = plt.subplots()\n",
    "ax.hist(df_c['Time'], density=True, bins=1000)\n",
    "ax.ticklabel_format(useOffset=False, style='plain')\n",
    "plt.show()"
   ]
  },
  {
   "cell_type": "code",
   "execution_count": 4,
   "id": "bbd3739c",
   "metadata": {},
   "outputs": [
    {
     "name": "stdout",
     "output_type": "stream",
     "text": [
      "Counter({0: 284315, 1: 492})\n"
     ]
    }
   ],
   "source": [
    "########################no Time, pre-SMOTE########################################\n",
    "Y=df_c['Class'].values\n",
    "X=df_c.drop(['Class','Time'],axis=1)\n",
    "from collections import Counter\n",
    "counter = Counter(Y)\n",
    "print(counter)"
   ]
  },
  {
   "cell_type": "code",
   "execution_count": 5,
   "id": "d17cfc99",
   "metadata": {},
   "outputs": [],
   "source": [
    "########################no Time, pre-SMOTE########################################\n",
    "from sklearn.model_selection import train_test_split\n",
    "from sklearn.linear_model import LogisticRegression\n",
    "\n",
    "X_train, X_test, y_train, y_test = train_test_split(\n",
    "    X, Y, test_size=0.2, random_state=1)\n",
    "log_reg = LogisticRegression(solver=\"lbfgs\", random_state=42, max_iter=10000)\n",
    "\n",
    "log_reg.fit(X_train, y_train)\n",
    "y_pred = log_reg.predict(X_test)"
   ]
  },
  {
   "cell_type": "code",
   "execution_count": 6,
   "id": "a4d7cf90",
   "metadata": {},
   "outputs": [
    {
     "name": "stdout",
     "output_type": "stream",
     "text": [
      "0.8792049938373604\n",
      "0.6311177536070994\n",
      "0.7338559083720168\n",
      "0.9992122818721255\n"
     ]
    }
   ],
   "source": [
    "########################Loop through model fit, no Time, pre-SMOTE########################################\n",
    "from sklearn.metrics import precision_score, recall_score, f1_score, accuracy_score\n",
    "import numpy as np\n",
    "\n",
    "p =[]\n",
    "r = []\n",
    "f1 = []\n",
    "a = []\n",
    "for i in range(100):\n",
    "\n",
    "        X_train, X_test, y_train, y_test = train_test_split(X, Y, test_size=0.2)\n",
    "\n",
    "        y_pred = log_reg.predict(X_test)\n",
    "        p.append(precision_score(y_test, y_pred))\n",
    "        r.append(recall_score(y_test, y_pred))\n",
    "        f1.append(f1_score(y_test, y_pred))\n",
    "        a.append(accuracy_score(y_test, y_pred))\n",
    "\n",
    "print(np.mean(p))\n",
    "print(np.mean(r))\n",
    "print(np.mean(f1))\n",
    "print(np.mean(a))"
   ]
  },
  {
   "cell_type": "code",
   "execution_count": 7,
   "id": "c8725148",
   "metadata": {},
   "outputs": [
    {
     "name": "stdout",
     "output_type": "stream",
     "text": [
      "Counter({0: 284315, 1: 492})\n",
      "0.8485109743342747\n",
      "0.6409026008681827\n",
      "0.7292688024826416\n",
      "0.9991840174151188\n"
     ]
    }
   ],
   "source": [
    "########################with Time, pre-SMOTE########################################\n",
    "Y=df_c['Class'].values\n",
    "X=df_c.drop(['Class'],axis=1)\n",
    "from collections import Counter\n",
    "counter = Counter(Y)\n",
    "print(counter)\n",
    "\n",
    "from sklearn.model_selection import train_test_split\n",
    "from sklearn.linear_model import LogisticRegression\n",
    "\n",
    "X_train, X_test, y_train, y_test = train_test_split(\n",
    "    X, Y, test_size=0.2, random_state=1)\n",
    "log_reg = LogisticRegression(solver=\"lbfgs\", random_state=42, max_iter=10000)\n",
    "\n",
    "log_reg.fit(X_train, y_train)\n",
    "y_pred = log_reg.predict(X_test)\n",
    "\n",
    "########################Loop through model fit, with Time, pre-SMOTE########################################\n",
    "from sklearn.metrics import precision_score, recall_score, f1_score, accuracy_score\n",
    "import numpy as np\n",
    "\n",
    "p =[]\n",
    "r = []\n",
    "f1 = []\n",
    "a = []\n",
    "for i in range(100):\n",
    "\n",
    "        X_train, X_test, y_train, y_test = train_test_split(X, Y, test_size=0.2)\n",
    "\n",
    "        y_pred = log_reg.predict(X_test)\n",
    "        p.append(precision_score(y_test, y_pred))\n",
    "        r.append(recall_score(y_test, y_pred))\n",
    "        f1.append(f1_score(y_test, y_pred))\n",
    "        a.append(accuracy_score(y_test, y_pred))\n",
    "\n",
    "print(np.mean(p))\n",
    "print(np.mean(r))\n",
    "print(np.mean(f1))\n",
    "print(np.mean(a))"
   ]
  },
  {
   "cell_type": "code",
   "execution_count": 8,
   "id": "a3ce3aff",
   "metadata": {},
   "outputs": [],
   "source": [
    "########################no Time, with SMOTE########################################\n",
    "#set seed with np.random.seed\n",
    "Y=df_c['Class'].values\n",
    "X=df_c.drop(['Class','Time'],axis=1)\n",
    "oversample = imblearn.over_sampling.SMOTE()\n",
    "X, Y = oversample.fit_resample(X, Y)"
   ]
  },
  {
   "cell_type": "code",
   "execution_count": 9,
   "id": "42b31fc8",
   "metadata": {},
   "outputs": [
    {
     "name": "stdout",
     "output_type": "stream",
     "text": [
      "Counter({0: 284315, 1: 284315})\n"
     ]
    }
   ],
   "source": [
    "from collections import Counter\n",
    "counter = Counter(Y)\n",
    "print(counter)"
   ]
  },
  {
   "cell_type": "code",
   "execution_count": 10,
   "id": "4ee706f4",
   "metadata": {},
   "outputs": [
    {
     "name": "stdout",
     "output_type": "stream",
     "text": [
      "0.9815699207846125\n",
      "0.9369053599807233\n",
      "0.9587174560560517\n",
      "0.9596511791498864\n"
     ]
    }
   ],
   "source": [
    "X_train, X_test, y_train, y_test = train_test_split(\n",
    "    X, Y, test_size=0.2, random_state=1)\n",
    "\n",
    "log_reg = LogisticRegression(solver=\"lbfgs\", random_state=42, max_iter=10000)\n",
    "log_reg.fit(X_train, y_train)\n",
    "\n",
    "\n",
    "########################Loop through model fit, no Time, with SMOTE########################################\n",
    "p =[]\n",
    "r = []\n",
    "f1 = []\n",
    "a = []\n",
    "for i in range(100):\n",
    "\n",
    "        X_train, X_test, y_train, y_test = train_test_split(X, Y, test_size=0.2)\n",
    "\n",
    "        y_pred = log_reg.predict(X_test)\n",
    "        p.append(precision_score(y_test, y_pred))\n",
    "        r.append(recall_score(y_test, y_pred))\n",
    "        f1.append(f1_score(y_test, y_pred))\n",
    "        a.append(accuracy_score(y_test, y_pred))\n",
    "\n",
    "print(np.mean(p))\n",
    "print(np.mean(r))\n",
    "print(np.mean(f1))\n",
    "print(np.mean(a))"
   ]
  },
  {
   "cell_type": "code",
   "execution_count": 11,
   "id": "4e76fb3f",
   "metadata": {},
   "outputs": [
    {
     "name": "stdout",
     "output_type": "stream",
     "text": [
      "Counter({0: 284315, 1: 284315})\n"
     ]
    }
   ],
   "source": [
    "######################## with Time, with SMOTE########################################\n",
    "#set seed with np.random.seed\n",
    "Y=df_c['Class'].values\n",
    "X=df_c.drop(['Class'],axis=1)\n",
    "oversample = imblearn.over_sampling.SMOTE()\n",
    "X, Y = oversample.fit_resample(X, Y)\n",
    "\n",
    "counter = Counter(Y)\n",
    "print(counter)"
   ]
  },
  {
   "cell_type": "code",
   "execution_count": 12,
   "id": "6f9fccec",
   "metadata": {},
   "outputs": [
    {
     "name": "stdout",
     "output_type": "stream",
     "text": [
      "0.9827241771166484\n",
      "0.9645832461979608\n",
      "0.9735690517089844\n",
      "0.9738198828763872\n"
     ]
    }
   ],
   "source": [
    "X_train, X_test, y_train, y_test = train_test_split(\n",
    "    X, Y, test_size=0.2, random_state=1)\n",
    "\n",
    "log_reg = LogisticRegression(solver=\"lbfgs\", random_state=42, max_iter=10000)\n",
    "log_reg.fit(X_train, y_train)\n",
    "\n",
    "\n",
    "########################Loop through model fit, with Time, with SMOTE########################################\n",
    "p =[]\n",
    "r = []\n",
    "f1 = []\n",
    "a = []\n",
    "for i in range(100):\n",
    "\n",
    "        X_train, X_test, y_train, y_test = train_test_split(X, Y, test_size=0.2)\n",
    "\n",
    "        y_pred = log_reg.predict(X_test)\n",
    "        p.append(precision_score(y_test, y_pred))\n",
    "        r.append(recall_score(y_test, y_pred))\n",
    "        f1.append(f1_score(y_test, y_pred))\n",
    "        a.append(accuracy_score(y_test, y_pred))\n",
    "\n",
    "print(np.mean(p))\n",
    "print(np.mean(r))\n",
    "print(np.mean(f1))\n",
    "print(np.mean(a))"
   ]
  },
  {
   "cell_type": "code",
   "execution_count": 13,
   "id": "de001b57",
   "metadata": {},
   "outputs": [],
   "source": [
    "############################################Regression########################################################"
   ]
  },
  {
   "cell_type": "code",
   "execution_count": 14,
   "id": "c2585d4d",
   "metadata": {},
   "outputs": [
    {
     "data": {
      "text/plain": [
       "<seaborn.axisgrid.PairGrid at 0x22c80982af0>"
      ]
     },
     "execution_count": 14,
     "metadata": {},
     "output_type": "execute_result"
    },
    {
     "data": {
      "image/png": "[encoded data removed]",
      "text/plain": [
       "<Figure size 360x360 with 6 Axes>"
      ]
     },
     "metadata": {
      "needs_background": "light"
     },
     "output_type": "display_data"
    },
    {
     "data": {
      "image/png": "[encoded data removed]",
      "text/plain": [
       "<Figure size 360x360 with 6 Axes>"
      ]
     },
     "metadata": {
      "needs_background": "light"
     },
     "output_type": "display_data"
    },
    {
     "data": {
      "image/png": "[encoded data removed]",
      "text/plain": [
       "<Figure size 1440x1440 with 72 Axes>"
      ]
     },
     "metadata": {
      "needs_background": "light"
     },
     "output_type": "display_data"
    }
   ],
   "source": [
    "import numpy as np\n",
    "df_e = pd.read_excel('C:/Users/adell/Desktop/School/MATH_6388_Machine _Learning/energy_data.xlsx')\n",
    "x_cols = df_e.iloc[:,0:8] \n",
    "\n",
    "n = pd.concat([x_cols['X2'],x_cols['X6']], axis=1)\n",
    "sb.pairplot(n, diag_kws = {'bins':15})\n",
    "\n",
    "y_cols = df_e.iloc[:,8:]\n",
    "sb.pairplot(y_cols, diag_kws = {'bins':50})\n",
    "\n",
    "sb.pairplot(x_cols)"
   ]
  },
  {
   "cell_type": "code",
   "execution_count": 15,
   "id": "b42c478d",
   "metadata": {},
   "outputs": [
    {
     "name": "stderr",
     "output_type": "stream",
     "text": [
      "C:\\Users\\adell\\anaconda3\\envs\\r4-base\\lib\\site-packages\\numpy\\core\\fromnumeric.py:3472: FutureWarning: In a future version, DataFrame.mean(axis=None) will return a scalar mean over the entire DataFrame. To retain the old behavior, use 'frame.mean(axis=0)' or just 'frame.mean()'\n",
      "  return mean(axis=axis, dtype=dtype, out=out, **kwargs)\n"
     ]
    },
    {
     "data": {
      "text/plain": [
       "Text(0, 0.5, 'Proportion of Variance Explained')"
      ]
     },
     "execution_count": 15,
     "metadata": {},
     "output_type": "execute_result"
    },
    {
     "data": {
      "image/png": "[encoded data removed]",
      "text/plain": [
       "<Figure size 432x288 with 1 Axes>"
      ]
     },
     "metadata": {
      "needs_background": "light"
     },
     "output_type": "display_data"
    }
   ],
   "source": [
    "from sklearn.decomposition import PCA\n",
    "\n",
    "import numpy as np\n",
    "X = (x_cols - np.mean(x_cols)) / np.std(x_cols)\n",
    "pca = PCA()\n",
    "new_dat = pca.fit_transform(X)\n",
    "\n",
    "import matplotlib.pyplot as plt\n",
    "import matplotlib as mpl\n",
    "%matplotlib inline\n",
    "v = [1,2,3,4,5,6,7,8]\n",
    "\n",
    "plt.plot(v, pca.explained_variance_ratio_)\n",
    "plt.title(r'Proportion of Variance Explained by each PC')\n",
    "plt.xlabel('PC Number')\n",
    "plt.ylabel('Proportion of Variance Explained')"
   ]
  },
  {
   "cell_type": "code",
   "execution_count": 16,
   "id": "a2eac31c",
   "metadata": {},
   "outputs": [],
   "source": [
    "#select PC1-PC5\n",
    "subset_dat = new_dat[:,0:5]\n",
    "y_cols = df_e.iloc[:,8:] \n",
    "y_cols = np.array(y_cols)"
   ]
  },
  {
   "cell_type": "code",
   "execution_count": 17,
   "id": "a8ce018f",
   "metadata": {},
   "outputs": [
    {
     "name": "stdout",
     "output_type": "stream",
     "text": [
      "Model mean squared error train/test: 13.50\n",
      "Model r^2: 0.8656687528441337\n",
      "0.882564736852435\n",
      "11.904297162041166\n"
     ]
    }
   ],
   "source": [
    "import sklearn\n",
    "from sklearn.preprocessing import PolynomialFeatures\n",
    "from sklearn.pipeline import Pipeline\n",
    "from sklearn.linear_model import LinearRegression\n",
    "from sklearn.metrics import mean_squared_error\n",
    "\n",
    "#Heating load regression, degree 1\n",
    "X_train, X_test, y_train, y_test = train_test_split(\n",
    "    subset_dat, y_cols[:,0], test_size=0.2, random_state=1)\n",
    "\n",
    "pipe = Pipeline(steps=[\n",
    "    ('poly', PolynomialFeatures(degree=1, include_bias=False)),\n",
    "    ('regr', LinearRegression())])\n",
    "pipe.fit(X_train, y_train) # training \n",
    "\n",
    "\n",
    "y_pred = pipe.predict(X_test) # prediction\n",
    "\n",
    "# The mean squared error\n",
    "print(\"Model mean squared error train/test: %.2f\" % mean_squared_error(y_test, y_pred))\n",
    "print(\"Model r^2:\", sklearn.metrics.r2_score(y_test, y_pred))\n",
    "\n",
    "################################Resampling original dataframe#########################################\n",
    "\n",
    "r=[]\n",
    "m =[]\n",
    "for i in range(100):\n",
    "\n",
    "    X_train = pd.DataFrame(subset_dat)\n",
    "    Y_train = pd.DataFrame(y_cols[:,0])\n",
    "    full = pd.concat([X_train,Y_train], axis=1)\n",
    "    full_new = pd.DataFrame.sample(full, frac=1, replace=True)\n",
    "\n",
    "    X_test_new = np.asarray(full_new.iloc[:,0:5]) \n",
    "    y_test_new = np.asarray(full_new.iloc[:,5]) \n",
    "\n",
    "    y_pred = pipe.predict(X_test_new) # prediction\n",
    "\n",
    "    # # The mean squared error\n",
    "    # print(\"Model mean squared error train/test: %.2f\" % mean_squared_error(y_test_new, y_pred))\n",
    "    # print(\"Model r^2:\", sklearn.metrics.r2_score(y_test_new, y_pred))\n",
    "\n",
    "    r.append(sklearn.metrics.r2_score(y_test_new, y_pred))\n",
    "    m.append(mean_squared_error(y_test_new, y_pred))\n",
    "    \n",
    "print(np.mean(r))\n",
    "print(np.mean(m))"
   ]
  },
  {
   "cell_type": "code",
   "execution_count": 18,
   "id": "15c53719",
   "metadata": {},
   "outputs": [
    {
     "name": "stdout",
     "output_type": "stream",
     "text": [
      "Model mean squared error train/test: 8.38\n",
      "Model r^2: 0.916574602980949\n",
      "0.9324117331611228\n",
      "6.847448785377862\n"
     ]
    }
   ],
   "source": [
    "#Heating load regression, degree 2\n",
    "X_train, X_test, y_train, y_test = train_test_split(\n",
    "    subset_dat, y_cols[:,0], test_size=0.2, random_state=1)\n",
    "\n",
    "pipe = Pipeline(steps=[\n",
    "    ('poly', PolynomialFeatures(degree=2, include_bias=False)),\n",
    "    ('regr', LinearRegression())])\n",
    "pipe.fit(X_train, y_train) # training \n",
    "\n",
    "\n",
    "y_pred = pipe.predict(X_test) # prediction\n",
    "\n",
    "# The mean squared error\n",
    "print(\"Model mean squared error train/test: %.2f\" % mean_squared_error(y_test, y_pred))\n",
    "print(\"Model r^2:\", sklearn.metrics.r2_score(y_test, y_pred))\n",
    "\n",
    "################################Resampling original dataframe#########################################\n",
    "\n",
    "r=[]\n",
    "m =[]\n",
    "for i in range(100):\n",
    "\n",
    "    X_train = pd.DataFrame(subset_dat)\n",
    "    Y_train = pd.DataFrame(y_cols[:,0])\n",
    "    full = pd.concat([X_train,Y_train], axis=1)\n",
    "    full_new = pd.DataFrame.sample(full, frac=1, replace=True)\n",
    "\n",
    "    X_test_new = np.asarray(full_new.iloc[:,0:5]) \n",
    "    y_test_new = np.asarray(full_new.iloc[:,5]) \n",
    "\n",
    "    y_pred = pipe.predict(X_test_new) # prediction\n",
    "\n",
    "    # # The mean squared error\n",
    "    # print(\"Model mean squared error train/test: %.2f\" % mean_squared_error(y_test_new, y_pred))\n",
    "    # print(\"Model r^2:\", sklearn.metrics.r2_score(y_test_new, y_pred))\n",
    "\n",
    "    r.append(sklearn.metrics.r2_score(y_test_new, y_pred))\n",
    "    m.append(mean_squared_error(y_test_new, y_pred))\n",
    "    \n",
    "print(np.mean(r))\n",
    "print(np.mean(m))"
   ]
  },
  {
   "cell_type": "code",
   "execution_count": 19,
   "id": "f42ce568",
   "metadata": {},
   "outputs": [
    {
     "name": "stdout",
     "output_type": "stream",
     "text": [
      "Model mean squared error train/test: 3.90\n",
      "Model r^2: 0.961146221574665\n",
      "0.9711881070524936\n",
      "2.927653005907431\n"
     ]
    }
   ],
   "source": [
    "#Heating load regression, degree 3\n",
    "X_train, X_test, y_train, y_test = train_test_split(\n",
    "    subset_dat, y_cols[:,0], test_size=0.2, random_state=1)\n",
    "\n",
    "pipe = Pipeline(steps=[\n",
    "    ('poly', PolynomialFeatures(degree=3, include_bias=False)),\n",
    "    ('regr', LinearRegression())])\n",
    "pipe.fit(X_train, y_train) # training \n",
    "\n",
    "\n",
    "y_pred = pipe.predict(X_test) # prediction\n",
    "\n",
    "# The mean squared error\n",
    "print(\"Model mean squared error train/test: %.2f\" % mean_squared_error(y_test, y_pred))\n",
    "print(\"Model r^2:\", sklearn.metrics.r2_score(y_test, y_pred))\n",
    "\n",
    "################################Resampling original dataframe#########################################\n",
    "\n",
    "r=[]\n",
    "m =[]\n",
    "for i in range(100):\n",
    "\n",
    "    X_train = pd.DataFrame(subset_dat)\n",
    "    Y_train = pd.DataFrame(y_cols[:,0])\n",
    "    full = pd.concat([X_train,Y_train], axis=1)\n",
    "    full_new = pd.DataFrame.sample(full, frac=1, replace=True)\n",
    "\n",
    "    X_test_new = np.asarray(full_new.iloc[:,0:5]) \n",
    "    y_test_new = np.asarray(full_new.iloc[:,5]) \n",
    "\n",
    "    y_pred = pipe.predict(X_test_new) # prediction\n",
    "\n",
    "    # # The mean squared error\n",
    "    # print(\"Model mean squared error train/test: %.2f\" % mean_squared_error(y_test_new, y_pred))\n",
    "    # print(\"Model r^2:\", sklearn.metrics.r2_score(y_test_new, y_pred))\n",
    "\n",
    "    r.append(sklearn.metrics.r2_score(y_test_new, y_pred))\n",
    "    m.append(mean_squared_error(y_test_new, y_pred))\n",
    "    \n",
    "print(np.mean(r))\n",
    "print(np.mean(m))"
   ]
  },
  {
   "cell_type": "code",
   "execution_count": 20,
   "id": "b0fb52ff",
   "metadata": {},
   "outputs": [
    {
     "name": "stdout",
     "output_type": "stream",
     "text": [
      "Model mean squared error train/test: 0.25\n",
      "Model r^2: 0.9975090128329406\n",
      "0.9984877592703542\n",
      "0.15326271536097727\n"
     ]
    }
   ],
   "source": [
    "#Heating load regression, degree 4\n",
    "X_train, X_test, y_train, y_test = train_test_split(\n",
    "    subset_dat, y_cols[:,0], test_size=0.2, random_state=1)\n",
    "\n",
    "pipe = Pipeline(steps=[\n",
    "    ('poly', PolynomialFeatures(degree=4, include_bias=False)),\n",
    "    ('regr', LinearRegression())])\n",
    "pipe.fit(X_train, y_train) # training \n",
    "\n",
    "\n",
    "y_pred = pipe.predict(X_test) # prediction\n",
    "\n",
    "# The mean squared error\n",
    "print(\"Model mean squared error train/test: %.2f\" % mean_squared_error(y_test, y_pred))\n",
    "print(\"Model r^2:\", sklearn.metrics.r2_score(y_test, y_pred))\n",
    "\n",
    "################################Resampling original dataframe#########################################\n",
    "\n",
    "r=[]\n",
    "m =[]\n",
    "for i in range(100):\n",
    "\n",
    "    X_train = pd.DataFrame(subset_dat)\n",
    "    Y_train = pd.DataFrame(y_cols[:,0])\n",
    "    full = pd.concat([X_train,Y_train], axis=1)\n",
    "    full_new = pd.DataFrame.sample(full, frac=1, replace=True)\n",
    "\n",
    "    X_test_new = np.asarray(full_new.iloc[:,0:5]) \n",
    "    y_test_new = np.asarray(full_new.iloc[:,5]) \n",
    "\n",
    "    y_pred = pipe.predict(X_test_new) # prediction\n",
    "\n",
    "    # # The mean squared error\n",
    "    # print(\"Model mean squared error train/test: %.2f\" % mean_squared_error(y_test_new, y_pred))\n",
    "    # print(\"Model r^2:\", sklearn.metrics.r2_score(y_test_new, y_pred))\n",
    "\n",
    "    r.append(sklearn.metrics.r2_score(y_test_new, y_pred))\n",
    "    m.append(mean_squared_error(y_test_new, y_pred))\n",
    "    \n",
    "print(np.mean(r))\n",
    "print(np.mean(m))"
   ]
  },
  {
   "cell_type": "code",
   "execution_count": 21,
   "id": "3b736d5a",
   "metadata": {},
   "outputs": [
    {
     "name": "stdout",
     "output_type": "stream",
     "text": [
      "Model mean squared error train/test: 0.25\n",
      "Model r^2: 0.9975554659177321\n",
      "0.9988507214519199\n",
      "0.11632026691856177\n"
     ]
    }
   ],
   "source": [
    "#Heating load regression, degree 5\n",
    "X_train, X_test, y_train, y_test = train_test_split(\n",
    "    subset_dat, y_cols[:,0], test_size=0.2, random_state=1)\n",
    "\n",
    "pipe = Pipeline(steps=[\n",
    "    ('poly', PolynomialFeatures(degree=5, include_bias=False)),\n",
    "    ('regr', LinearRegression())])\n",
    "pipe.fit(X_train, y_train) # training \n",
    "\n",
    "\n",
    "y_pred = pipe.predict(X_test) # prediction\n",
    "\n",
    "# The mean squared error\n",
    "print(\"Model mean squared error train/test: %.2f\" % mean_squared_error(y_test, y_pred))\n",
    "print(\"Model r^2:\", sklearn.metrics.r2_score(y_test, y_pred))\n",
    "\n",
    "################################Resampling original dataframe#########################################\n",
    "\n",
    "r=[]\n",
    "m =[]\n",
    "for i in range(100):\n",
    "\n",
    "    X_train = pd.DataFrame(subset_dat)\n",
    "    Y_train = pd.DataFrame(y_cols[:,0])\n",
    "    full = pd.concat([X_train,Y_train], axis=1)\n",
    "    full_new = pd.DataFrame.sample(full, frac=1, replace=True)\n",
    "\n",
    "    X_test_new = np.asarray(full_new.iloc[:,0:5]) \n",
    "    y_test_new = np.asarray(full_new.iloc[:,5]) \n",
    "\n",
    "    y_pred = pipe.predict(X_test_new) # prediction\n",
    "\n",
    "    # # The mean squared error\n",
    "    # print(\"Model mean squared error train/test: %.2f\" % mean_squared_error(y_test_new, y_pred))\n",
    "    # print(\"Model r^2:\", sklearn.metrics.r2_score(y_test_new, y_pred))\n",
    "\n",
    "    r.append(sklearn.metrics.r2_score(y_test_new, y_pred))\n",
    "    m.append(mean_squared_error(y_test_new, y_pred))\n",
    "    \n",
    "print(np.mean(r))\n",
    "print(np.mean(m))"
   ]
  },
  {
   "cell_type": "code",
   "execution_count": 22,
   "id": "be46d391",
   "metadata": {},
   "outputs": [
    {
     "name": "stdout",
     "output_type": "stream",
     "text": [
      "Model mean squared error train/test: 0.40\n",
      "Model r^2: 0.9960196755913879\n",
      "0.9989031358674478\n",
      "0.11073967987287911\n"
     ]
    }
   ],
   "source": [
    "#Heating load regression, degree 6\n",
    "X_train, X_test, y_train, y_test = train_test_split(\n",
    "    subset_dat, y_cols[:,0], test_size=0.2, random_state=1)\n",
    "\n",
    "pipe = Pipeline(steps=[\n",
    "    ('poly', PolynomialFeatures(degree=6, include_bias=False)),\n",
    "    ('regr', LinearRegression())])\n",
    "pipe.fit(X_train, y_train) # training \n",
    "\n",
    "\n",
    "y_pred = pipe.predict(X_test) # prediction\n",
    "\n",
    "# The mean squared error\n",
    "print(\"Model mean squared error train/test: %.2f\" % mean_squared_error(y_test, y_pred))\n",
    "print(\"Model r^2:\", sklearn.metrics.r2_score(y_test, y_pred))\n",
    "\n",
    "################################Resampling original dataframe#########################################\n",
    "\n",
    "r=[]\n",
    "m =[]\n",
    "for i in range(100):\n",
    "\n",
    "    X_train = pd.DataFrame(subset_dat)\n",
    "    Y_train = pd.DataFrame(y_cols[:,0])\n",
    "    full = pd.concat([X_train,Y_train], axis=1)\n",
    "    full_new = pd.DataFrame.sample(full, frac=1, replace=True)\n",
    "\n",
    "    X_test_new = np.asarray(full_new.iloc[:,0:5]) \n",
    "    y_test_new = np.asarray(full_new.iloc[:,5]) \n",
    "\n",
    "    y_pred = pipe.predict(X_test_new) # prediction\n",
    "\n",
    "    # # The mean squared error\n",
    "    # print(\"Model mean squared error train/test: %.2f\" % mean_squared_error(y_test_new, y_pred))\n",
    "    # print(\"Model r^2:\", sklearn.metrics.r2_score(y_test_new, y_pred))\n",
    "\n",
    "    r.append(sklearn.metrics.r2_score(y_test_new, y_pred))\n",
    "    m.append(mean_squared_error(y_test_new, y_pred))\n",
    "    \n",
    "print(np.mean(r))\n",
    "print(np.mean(m))"
   ]
  },
  {
   "cell_type": "code",
   "execution_count": 23,
   "id": "33adaec4",
   "metadata": {},
   "outputs": [
    {
     "name": "stdout",
     "output_type": "stream",
     "text": [
      "Model mean squared error train/test: 2.85\n",
      "Model r^2: 0.9716715601162731\n",
      "0.9942701744767717\n",
      "0.5809096009830135\n"
     ]
    }
   ],
   "source": [
    "#Heating load regression, degree 7\n",
    "X_train, X_test, y_train, y_test = train_test_split(\n",
    "    subset_dat, y_cols[:,0], test_size=0.2, random_state=1)\n",
    "\n",
    "pipe = Pipeline(steps=[\n",
    "    ('poly', PolynomialFeatures(degree=7, include_bias=False)),\n",
    "    ('regr', LinearRegression())])\n",
    "pipe.fit(X_train, y_train) # training \n",
    "\n",
    "\n",
    "y_pred = pipe.predict(X_test) # prediction\n",
    "\n",
    "# The mean squared error\n",
    "print(\"Model mean squared error train/test: %.2f\" % mean_squared_error(y_test, y_pred))\n",
    "print(\"Model r^2:\", sklearn.metrics.r2_score(y_test, y_pred))\n",
    "\n",
    "################################Resampling original dataframe#########################################\n",
    "\n",
    "r=[]\n",
    "m =[]\n",
    "for i in range(100):\n",
    "\n",
    "    X_train = pd.DataFrame(subset_dat)\n",
    "    Y_train = pd.DataFrame(y_cols[:,0])\n",
    "    full = pd.concat([X_train,Y_train], axis=1)\n",
    "    full_new = pd.DataFrame.sample(full, frac=1, replace=True)\n",
    "\n",
    "    X_test_new = np.asarray(full_new.iloc[:,0:5]) \n",
    "    y_test_new = np.asarray(full_new.iloc[:,5]) \n",
    "\n",
    "    y_pred = pipe.predict(X_test_new) # prediction\n",
    "\n",
    "\n",
    "    r.append(sklearn.metrics.r2_score(y_test_new, y_pred))\n",
    "    m.append(mean_squared_error(y_test_new, y_pred))\n",
    "    \n",
    "print(np.mean(r))\n",
    "print(np.mean(m))"
   ]
  },
  {
   "cell_type": "code",
   "execution_count": 24,
   "id": "08f828fb",
   "metadata": {},
   "outputs": [
    {
     "name": "stdout",
     "output_type": "stream",
     "text": [
      "Model mean squared error train/test: 17.59\n",
      "Model r^2: 0.811072086793516\n",
      "0.8420740795427628\n",
      "14.275737571391982\n"
     ]
    }
   ],
   "source": [
    "#Cooling load regression, degree 1\n",
    "X_train, X_test, y_train, y_test = train_test_split(\n",
    "    subset_dat, y_cols[:,1], test_size=0.2, random_state=1)\n",
    "\n",
    "pipe = Pipeline(steps=[\n",
    "    ('poly', PolynomialFeatures(degree=1, include_bias=False)),\n",
    "    ('regr', LinearRegression())])\n",
    "pipe.fit(X_train, y_train) # training \n",
    "\n",
    "\n",
    "y_pred = pipe.predict(X_test) # prediction\n",
    "\n",
    "# The mean squared error\n",
    "print(\"Model mean squared error train/test: %.2f\" % mean_squared_error(y_test, y_pred))\n",
    "print(\"Model r^2:\", sklearn.metrics.r2_score(y_test, y_pred))\n",
    "\n",
    "################################Resampling original dataframe#########################################\n",
    "\n",
    "r=[]\n",
    "m =[]\n",
    "for i in range(100):\n",
    "\n",
    "    X_train = pd.DataFrame(subset_dat)\n",
    "    Y_train = pd.DataFrame(y_cols[:,1])\n",
    "    full = pd.concat([X_train,Y_train], axis=1)\n",
    "    full_new = pd.DataFrame.sample(full, frac=1, replace=True)\n",
    "\n",
    "    X_test_new = np.asarray(full_new.iloc[:,0:5]) \n",
    "    y_test_new = np.asarray(full_new.iloc[:,5]) \n",
    "\n",
    "    y_pred = pipe.predict(X_test_new) # prediction\n",
    "\n",
    "    # # The mean squared error\n",
    "    # print(\"Model mean squared error train/test: %.2f\" % mean_squared_error(y_test_new, y_pred))\n",
    "    # print(\"Model r^2:\", sklearn.metrics.r2_score(y_test_new, y_pred))\n",
    "\n",
    "    r.append(sklearn.metrics.r2_score(y_test_new, y_pred))\n",
    "    m.append(mean_squared_error(y_test_new, y_pred))\n",
    "    \n",
    "print(np.mean(r))\n",
    "print(np.mean(m))"
   ]
  },
  {
   "cell_type": "code",
   "execution_count": 25,
   "id": "b234fb8b",
   "metadata": {},
   "outputs": [
    {
     "name": "stdout",
     "output_type": "stream",
     "text": [
      "Model mean squared error train/test: 12.37\n",
      "Model r^2: 0.867126904104089\n",
      "0.9016834580606055\n",
      "8.817321353933638\n"
     ]
    }
   ],
   "source": [
    "#Cooling load regression, degree 2\n",
    "X_train, X_test, y_train, y_test = train_test_split(\n",
    "    subset_dat, y_cols[:,1], test_size=0.2, random_state=1)\n",
    "\n",
    "pipe = Pipeline(steps=[\n",
    "    ('poly', PolynomialFeatures(degree=2, include_bias=False)),\n",
    "    ('regr', LinearRegression())])\n",
    "pipe.fit(X_train, y_train) # training \n",
    "\n",
    "\n",
    "y_pred = pipe.predict(X_test) # prediction\n",
    "\n",
    "# The mean squared error\n",
    "print(\"Model mean squared error train/test: %.2f\" % mean_squared_error(y_test, y_pred))\n",
    "print(\"Model r^2:\", sklearn.metrics.r2_score(y_test, y_pred))\n",
    "\n",
    "################################Resampling original dataframe#########################################\n",
    "\n",
    "r=[]\n",
    "m =[]\n",
    "for i in range(100):\n",
    "\n",
    "    X_train = pd.DataFrame(subset_dat)\n",
    "    Y_train = pd.DataFrame(y_cols[:,1])\n",
    "    full = pd.concat([X_train,Y_train], axis=1)\n",
    "    full_new = pd.DataFrame.sample(full, frac=1, replace=True)\n",
    "\n",
    "    X_test_new = np.asarray(full_new.iloc[:,0:5]) \n",
    "    y_test_new = np.asarray(full_new.iloc[:,5]) \n",
    "\n",
    "    y_pred = pipe.predict(X_test_new) # prediction\n",
    "\n",
    "    # # The mean squared error\n",
    "    # print(\"Model mean squared error train/test: %.2f\" % mean_squared_error(y_test_new, y_pred))\n",
    "    # print(\"Model r^2:\", sklearn.metrics.r2_score(y_test_new, y_pred))\n",
    "\n",
    "    r.append(sklearn.metrics.r2_score(y_test_new, y_pred))\n",
    "    m.append(mean_squared_error(y_test_new, y_pred))\n",
    "    \n",
    "print(np.mean(r))\n",
    "print(np.mean(m))"
   ]
  },
  {
   "cell_type": "code",
   "execution_count": 26,
   "id": "5f3f120f",
   "metadata": {},
   "outputs": [
    {
     "name": "stdout",
     "output_type": "stream",
     "text": [
      "Model mean squared error train/test: 6.88\n",
      "Model r^2: 0.9260855986382243\n",
      "0.9471134393822436\n",
      "4.790979416485329\n"
     ]
    }
   ],
   "source": [
    "#Cooling load regression, degree 3\n",
    "X_train, X_test, y_train, y_test = train_test_split(\n",
    "    subset_dat, y_cols[:,1], test_size=0.2, random_state=1)\n",
    "\n",
    "pipe = Pipeline(steps=[\n",
    "    ('poly', PolynomialFeatures(degree=3, include_bias=False)),\n",
    "    ('regr', LinearRegression())])\n",
    "pipe.fit(X_train, y_train) # training \n",
    "\n",
    "\n",
    "y_pred = pipe.predict(X_test) # prediction\n",
    "\n",
    "# The mean squared error\n",
    "print(\"Model mean squared error train/test: %.2f\" % mean_squared_error(y_test, y_pred))\n",
    "print(\"Model r^2:\", sklearn.metrics.r2_score(y_test, y_pred))\n",
    "\n",
    "################################Resampling original dataframe#########################################\n",
    "\n",
    "r=[]\n",
    "m =[]\n",
    "for i in range(100):\n",
    "\n",
    "    X_train = pd.DataFrame(subset_dat)\n",
    "    Y_train = pd.DataFrame(y_cols[:,1])\n",
    "    full = pd.concat([X_train,Y_train], axis=1)\n",
    "    full_new = pd.DataFrame.sample(full, frac=1, replace=True)\n",
    "\n",
    "    X_test_new = np.asarray(full_new.iloc[:,0:5]) \n",
    "    y_test_new = np.asarray(full_new.iloc[:,5]) \n",
    "\n",
    "    y_pred = pipe.predict(X_test_new) # prediction\n",
    "\n",
    "    # # The mean squared error\n",
    "    # print(\"Model mean squared error train/test: %.2f\" % mean_squared_error(y_test_new, y_pred))\n",
    "    # print(\"Model r^2:\", sklearn.metrics.r2_score(y_test_new, y_pred))\n",
    "\n",
    "    r.append(sklearn.metrics.r2_score(y_test_new, y_pred))\n",
    "    m.append(mean_squared_error(y_test_new, y_pred))\n",
    "    \n",
    "print(np.mean(r))\n",
    "print(np.mean(m))"
   ]
  },
  {
   "cell_type": "code",
   "execution_count": 27,
   "id": "17edc1f1",
   "metadata": {},
   "outputs": [
    {
     "name": "stdout",
     "output_type": "stream",
     "text": [
      "Model mean squared error train/test: 3.08\n",
      "Model r^2: 0.9669287638732433\n",
      "0.979826787795274\n",
      "1.8194217409276792\n"
     ]
    }
   ],
   "source": [
    "#Cooling load regression, degree 4\n",
    "X_train, X_test, y_train, y_test = train_test_split(\n",
    "    subset_dat, y_cols[:,1], test_size=0.2, random_state=1)\n",
    "\n",
    "pipe = Pipeline(steps=[\n",
    "    ('poly', PolynomialFeatures(degree=4, include_bias=False)),\n",
    "    ('regr', LinearRegression())])\n",
    "pipe.fit(X_train, y_train) # training \n",
    "\n",
    "\n",
    "y_pred = pipe.predict(X_test) # prediction\n",
    "\n",
    "# The mean squared error\n",
    "print(\"Model mean squared error train/test: %.2f\" % mean_squared_error(y_test, y_pred))\n",
    "print(\"Model r^2:\", sklearn.metrics.r2_score(y_test, y_pred))\n",
    "\n",
    "################################Resampling original dataframe#########################################\n",
    "\n",
    "r=[]\n",
    "m =[]\n",
    "for i in range(100):\n",
    "\n",
    "    X_train = pd.DataFrame(subset_dat)\n",
    "    Y_train = pd.DataFrame(y_cols[:,1])\n",
    "    full = pd.concat([X_train,Y_train], axis=1)\n",
    "    full_new = pd.DataFrame.sample(full, frac=1, replace=True)\n",
    "\n",
    "    X_test_new = np.asarray(full_new.iloc[:,0:5]) \n",
    "    y_test_new = np.asarray(full_new.iloc[:,5]) \n",
    "\n",
    "    y_pred = pipe.predict(X_test_new) # prediction\n",
    "\n",
    "    # # The mean squared error\n",
    "    # print(\"Model mean squared error train/test: %.2f\" % mean_squared_error(y_test_new, y_pred))\n",
    "    # print(\"Model r^2:\", sklearn.metrics.r2_score(y_test_new, y_pred))\n",
    "\n",
    "    r.append(sklearn.metrics.r2_score(y_test_new, y_pred))\n",
    "    m.append(mean_squared_error(y_test_new, y_pred))\n",
    "    \n",
    "print(np.mean(r))\n",
    "print(np.mean(m))"
   ]
  },
  {
   "cell_type": "code",
   "execution_count": 28,
   "id": "d007dfc1",
   "metadata": {},
   "outputs": [
    {
     "name": "stdout",
     "output_type": "stream",
     "text": [
      "Model mean squared error train/test: 2.23\n",
      "Model r^2: 0.9760931335022374\n",
      "0.9874314275433858\n",
      "1.139639612708363\n"
     ]
    }
   ],
   "source": [
    "#Cooling load regression, degree 5\n",
    "X_train, X_test, y_train, y_test = train_test_split(\n",
    "    subset_dat, y_cols[:,1], test_size=0.2, random_state=1)\n",
    "\n",
    "pipe = Pipeline(steps=[\n",
    "    ('poly', PolynomialFeatures(degree=5, include_bias=False)),\n",
    "    ('regr', LinearRegression())])\n",
    "pipe.fit(X_train, y_train) # training \n",
    "\n",
    "\n",
    "y_pred = pipe.predict(X_test) # prediction\n",
    "\n",
    "# The mean squared error\n",
    "print(\"Model mean squared error train/test: %.2f\" % mean_squared_error(y_test, y_pred))\n",
    "print(\"Model r^2:\", sklearn.metrics.r2_score(y_test, y_pred))\n",
    "\n",
    "################################Resampling original dataframe#########################################\n",
    "\n",
    "r=[]\n",
    "m =[]\n",
    "for i in range(100):\n",
    "\n",
    "    X_train = pd.DataFrame(subset_dat)\n",
    "    Y_train = pd.DataFrame(y_cols[:,1])\n",
    "    full = pd.concat([X_train,Y_train], axis=1)\n",
    "    full_new = pd.DataFrame.sample(full, frac=1, replace=True)\n",
    "\n",
    "    X_test_new = np.asarray(full_new.iloc[:,0:5]) \n",
    "    y_test_new = np.asarray(full_new.iloc[:,5]) \n",
    "\n",
    "    y_pred = pipe.predict(X_test_new) # prediction\n",
    "\n",
    "    # # The mean squared error\n",
    "    # print(\"Model mean squared error train/test: %.2f\" % mean_squared_error(y_test_new, y_pred))\n",
    "    # print(\"Model r^2:\", sklearn.metrics.r2_score(y_test_new, y_pred))\n",
    "\n",
    "    r.append(sklearn.metrics.r2_score(y_test_new, y_pred))\n",
    "    m.append(mean_squared_error(y_test_new, y_pred))\n",
    "    \n",
    "print(np.mean(r))\n",
    "print(np.mean(m))"
   ]
  },
  {
   "cell_type": "code",
   "execution_count": 29,
   "id": "2e5b2318",
   "metadata": {},
   "outputs": [
    {
     "name": "stdout",
     "output_type": "stream",
     "text": [
      "Model mean squared error train/test: 3.87\n",
      "Model r^2: 0.9584521551524365\n",
      "0.9869687045331085\n",
      "1.1702183585474162\n"
     ]
    }
   ],
   "source": [
    "#Cooling load regression, degree 6\n",
    "X_train, X_test, y_train, y_test = train_test_split(\n",
    "    subset_dat, y_cols[:,1], test_size=0.2, random_state=1)\n",
    "\n",
    "pipe = Pipeline(steps=[\n",
    "    ('poly', PolynomialFeatures(degree=6, include_bias=False)),\n",
    "    ('regr', LinearRegression())])\n",
    "pipe.fit(X_train, y_train) # training \n",
    "\n",
    "\n",
    "y_pred = pipe.predict(X_test) # prediction\n",
    "\n",
    "# The mean squared error\n",
    "print(\"Model mean squared error train/test: %.2f\" % mean_squared_error(y_test, y_pred))\n",
    "print(\"Model r^2:\", sklearn.metrics.r2_score(y_test, y_pred))\n",
    "\n",
    "################################Resampling original dataframe#########################################\n",
    "\n",
    "r=[]\n",
    "m =[]\n",
    "for i in range(100):\n",
    "\n",
    "    X_train = pd.DataFrame(subset_dat)\n",
    "    Y_train = pd.DataFrame(y_cols[:,1])\n",
    "    full = pd.concat([X_train,Y_train], axis=1)\n",
    "    full_new = pd.DataFrame.sample(full, frac=1, replace=True)\n",
    "\n",
    "    X_test_new = np.asarray(full_new.iloc[:,0:5]) \n",
    "    y_test_new = np.asarray(full_new.iloc[:,5]) \n",
    "\n",
    "    y_pred = pipe.predict(X_test_new) # prediction\n",
    "\n",
    "    # # The mean squared error\n",
    "    # print(\"Model mean squared error train/test: %.2f\" % mean_squared_error(y_test_new, y_pred))\n",
    "    # print(\"Model r^2:\", sklearn.metrics.r2_score(y_test_new, y_pred))\n",
    "\n",
    "    r.append(sklearn.metrics.r2_score(y_test_new, y_pred))\n",
    "    m.append(mean_squared_error(y_test_new, y_pred))\n",
    "    \n",
    "print(np.mean(r))\n",
    "print(np.mean(m))"
   ]
  },
  {
   "cell_type": "code",
   "execution_count": 30,
   "id": "fe21f7d2",
   "metadata": {},
   "outputs": [
    {
     "name": "stdout",
     "output_type": "stream",
     "text": [
      "Model mean squared error train/test: 20.81\n",
      "Model r^2: 0.7764322193101146\n",
      "0.948431861930199\n",
      "4.6486569778516085\n"
     ]
    }
   ],
   "source": [
    "#Cooling load regression, degree 7\n",
    "X_train, X_test, y_train, y_test = train_test_split(\n",
    "    subset_dat, y_cols[:,1], test_size=0.2, random_state=1)\n",
    "\n",
    "pipe = Pipeline(steps=[\n",
    "    ('poly', PolynomialFeatures(degree=7, include_bias=False)),\n",
    "    ('regr', LinearRegression())])\n",
    "pipe.fit(X_train, y_train) # training \n",
    "\n",
    "\n",
    "y_pred = pipe.predict(X_test) # prediction\n",
    "\n",
    "# The mean squared error\n",
    "print(\"Model mean squared error train/test: %.2f\" % mean_squared_error(y_test, y_pred))\n",
    "print(\"Model r^2:\", sklearn.metrics.r2_score(y_test, y_pred))\n",
    "\n",
    "################################Resampling original dataframe#########################################\n",
    "\n",
    "r=[]\n",
    "m =[]\n",
    "for i in range(100):\n",
    "\n",
    "    X_train = pd.DataFrame(subset_dat)\n",
    "    Y_train = pd.DataFrame(y_cols[:,1])\n",
    "    full = pd.concat([X_train,Y_train], axis=1)\n",
    "    full_new = pd.DataFrame.sample(full, frac=1, replace=True)\n",
    "\n",
    "    X_test_new = np.asarray(full_new.iloc[:,0:5]) \n",
    "    y_test_new = np.asarray(full_new.iloc[:,5]) \n",
    "\n",
    "    y_pred = pipe.predict(X_test_new) # prediction\n",
    "\n",
    "\n",
    "    r.append(sklearn.metrics.r2_score(y_test_new, y_pred))\n",
    "    m.append(mean_squared_error(y_test_new, y_pred))\n",
    "    \n",
    "print(np.mean(r))\n",
    "print(np.mean(m))"
   ]
  }
 ],
 "metadata": {
  "kernelspec": {
   "display_name": "Python 3 (ipykernel)",
   "language": "python",
   "name": "python3"
  },
  "language_info": {
   "codemirror_mode": {
    "name": "ipython",
    "version": 3
   },
   "file_extension": ".py",
   "mimetype": "text/x-python",
   "name": "python",
   "nbconvert_exporter": "python",
   "pygments_lexer": "ipython3",
   "version": "3.9.12"
  }
 },
 "nbformat": 4,
 "nbformat_minor": 5
}
